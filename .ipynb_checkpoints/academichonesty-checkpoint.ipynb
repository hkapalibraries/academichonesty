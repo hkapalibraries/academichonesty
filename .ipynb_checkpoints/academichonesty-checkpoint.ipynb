{
 "cells": [
  {
   "cell_type": "markdown",
   "metadata": {},
   "source": [
    "# Academic Honesty\n",
    "***\n",
    "### What is Academic Honesty?\n",
    "```{raw} html\n",
    "<p><span style=\"font-size:14px;\">Academic honesty involves respecting the work of others and ensuring your submissions are your own. It&rsquo;s about originality, proper attribution, and avoiding any unethical behaviours.</span></p>\n",
    "<p><span style=\"font-size:14px;\">Academic honesty involves respecting the work of others and ensuring your submissions are your own. It&rsquo;s about originality, proper attribution, and avoiding any unethical behaviours.</span></p>\n",
    "<div style=\"background:#eeeeee;border:1px solid #cccccc;padding:5px 10px;\"><span style=\"font-size:14px;\"><strong>Examples of Academic misconduct:</strong><br />\n",
    "<strong>Plagiarism:</strong> Using someone else&rsquo;s ideas, words, or creations without giving credit.&nbsp;<br />\n",
    "<strong>Collusion:</strong> Helping others cheat or copying work together without permission.&nbsp;<br />\n",
    "<strong>Cheating:</strong> Using unauthorized resources or tools to gain an unfair advantage.&nbsp;<br />\n",
    "<strong>Falsifying Data:</strong> Making up or altering information.&nbsp;<br />\n",
    "<strong>Sabotage:</strong> Disrupting someone else&rsquo;s work to harm their performance.</span><br />\n",
    "<span style=\"font-size:14px;\">etc.</span></div>\n",
    "```\n",
    "***\n"
   ]
  },
  {
   "cell_type": "markdown",
   "metadata": {},
   "source": [
    "### Observe the Policy\n",
    "```{raw} html\n",
    "<p><span style=\"font-size:14px;\">The Academy expects that the work which students submit for course assessment or in examination is a result of their own ideas, creative thinking and research, unless the other sources of the work submitted are acknowledged. This expectation of academic honesty applies to course assignments, essays, papers, creative projects, research projects, work in examinations, presentations, and any other kind of submission required by the relevant academic programme.</span></p>\n",
    "\n",
    "<p><span style=\"font-size:14px;\">Breaching the academic honesty policy can lead to serious consequences and may result in <strong>disciplinary actions</strong>. </span><span style=\"font-size:14px;\">Please observe the Academic Honesty Policy carefully.</span></p>\n",
    "\n",
    "<p><span style=\"font-size:14px;\">You can find the Academic Honesty Policy of the Academy at &nbsp;</span></p>\n",
    "\n",
    "<p><span style=\"font-size:12px;\"><a button=\"\" class=\"btn btn-warning\" href=\"https://apacloud.sharepoint.com/ra/SitePages/Student-Handbook.aspx\" target=\"_blank\" type=\"button\">Student Handbook for Undergraduate &amp; Postgraduate Students</a></span></p>\n"
   ]
  },
  {
   "cell_type": "code",
   "execution_count": null,
   "metadata": {},
   "outputs": [],
   "source": []
  },
  {
   "cell_type": "code",
   "execution_count": null,
   "metadata": {},
   "outputs": [],
   "source": []
  }
 ],
 "metadata": {
  "kernelspec": {
   "display_name": "Python 3 (ipykernel)",
   "language": "python",
   "name": "python3"
  },
  "language_info": {
   "codemirror_mode": {
    "name": "ipython",
    "version": 3
   },
   "file_extension": ".py",
   "mimetype": "text/x-python",
   "name": "python",
   "nbconvert_exporter": "python",
   "pygments_lexer": "ipython3",
   "version": "3.13.2"
  },
  "widgets": {
   "application/vnd.jupyter.widget-state+json": {
    "state": {},
    "version_major": 2,
    "version_minor": 0
   }
  }
 },
 "nbformat": 4,
 "nbformat_minor": 4
}
