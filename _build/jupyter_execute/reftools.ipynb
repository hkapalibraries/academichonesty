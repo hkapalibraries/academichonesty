{
 "cells": [
  {
   "cell_type": "markdown",
   "metadata": {
    "jp-MarkdownHeadingCollapsed": true
   },
   "source": [
    "# Reference Tools\n",
    "\n",
    "::::{tab-set}\n",
    "\n",
    ":::{tab-item} RefWorks\n",
    "### [RefWorks](http://libproxy.hkapa.edu/login?url=https://refworks.proquest.com/)\n",
    "A web-based software that helps you to store, organize, and share bibliographic information. There aretwo add-onsdownloadable on different versions of Microsoft Word to facilitate formatting in-text citations, footnotes and bibliographies in any style of your choice, such as APA, MLA, Chicago, and more.\\\n",
    "網絡版書目管理工具，協助你建立及管理個人書目資料庫。撰寫論文時，亦可利用Write-N-Cite或 RefWorks Citation Manager工具，編製符合不同論文格式要求的書目、引用文獻和參考文獻列表。\n",
    "\n",
    "##### **Learn more on using RefWorks**\n",
    "```{raw} html\n",
    "<a href=\"http://lib.hkapa.edu/bib/991002246324504326\" target=\"_blank\"><img src=\"https://d329ms1y997xa5.cloudfront.net/accounts/206453/images/202425_-_Part_2_Academic_Honesty___Library_Support_Part_2_Ref_Tools.jpg\"></a>\n",
    "```\n",
    ":::\n",
    "\n",
    ":::{tab-item} Academic Writer\n",
    "### [Academic Writer](http://libproxy.hkapa.edu/login?url=https://academicwriter.apa.org/)\n",
    "Designed to support teaching and learning of academic writing in APA style, it features full integration of the Publication Manual of the American Psychological Association and hundreds of learning objects, including instructional videos, quizzes, samples, and more.\\\n",
    "為支援撰寫學術文獻和運用APA 規範及促進教學而設。提供連結至美國心理協會出版手冊(Publication Manual of the American Psychological Association) 的片段，以及教學影片、自我評測、範文等數百樣學習工具。\n",
    "\n",
    "##### **Learn more on using Academic Writer**\n",
    "```{raw} html\n",
    "<a href=\"http://lib.hkapa.edu/bib/991002276225304326\" target=\"_blank\"><img src=\"https://d329ms1y997xa5.cloudfront.net/accounts/206453/images/202425_-_Part_2_Academic_Honesty___Library_Support_Part_2_Ref_Tools__1_.jpg\"></a>\n",
    "```\n",
    ":::\n",
    "\n",
    ":::{tab-item} Turnitin\n",
    "### [Turnitin](https://hkapa.instructure.com/)\n",
    "Turnitin is a web-based plagiarism detection service. Teachers and students can create/ submit assignments through the Canvas platform. Turnitin compares the submissions with databases and other web sources to check for potentially plagiarized content and generates a similarity report.\\\n",
    "Turnitin是一個抄襲檢測的線上系統。師生可透過Canvas平台創建/提交作業，Turnitin會將文件與數據庫及其他網絡資料進行對比，產生相似度報告。\n",
    "\n",
    "##### **Learn more on using Academic Writer**\n",
    "```{raw} html\n",
    "<a href=\"https://libguides.hkapa.edu/turnitin\" target=\"_blank\"><img src=\"https://d329ms1y997xa5.cloudfront.net/accounts/206453/images/202425_-_Part_2_Academic_Honesty___Library_Support_Part_2_Ref_Tools__2_.jpg\"></a>\n",
    "```\n",
    ":::\n",
    "\n",
    "::::\n",
    "\n"
   ]
  },
  {
   "cell_type": "markdown",
   "metadata": {},
   "source": []
  },
  {
   "cell_type": "code",
   "execution_count": null,
   "metadata": {},
   "outputs": [],
   "source": []
  }
 ],
 "metadata": {
  "kernelspec": {
   "display_name": "Python 3 (ipykernel)",
   "language": "python",
   "name": "python3"
  },
  "language_info": {
   "codemirror_mode": {
    "name": "ipython",
    "version": 3
   },
   "file_extension": ".py",
   "mimetype": "text/x-python",
   "name": "python",
   "nbconvert_exporter": "python",
   "pygments_lexer": "ipython3",
   "version": "3.13.2"
  },
  "widgets": {
   "application/vnd.jupyter.widget-state+json": {
    "state": {},
    "version_major": 2,
    "version_minor": 0
   }
  }
 },
 "nbformat": 4,
 "nbformat_minor": 4
}