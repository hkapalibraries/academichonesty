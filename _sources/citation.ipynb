{
 "cells": [
  {
   "cell_type": "markdown",
   "metadata": {},
   "source": [
    "# Citing Sources\n",
    "***\n",
    "### Why Cite?\n",
    "```{raw} html\n",
    "\n",
    "<p><iframe allow=\"accelerometer; autoplay; clipboard-write; encrypted-media; gyroscope; picture-in-picture; web-share\" allowfullscreen=\"\" frameborder=\"0\" height=\"315\" referrerpolicy=\"strict-origin-when-cross-origin\" sandbox=\"allow-scripts allow-same-origin\" src=\"https://www.youtube.com/embed/jRo7c4BRSVg?si=B8W0voRrMQ38gjnJ&amp;cc_load_policy=1\" title=\"YouTube video player\" width=\"100%\"></iframe></p>\n",
    "\n",
    "<p><span style=\"font-size:14px;\">I</span><span style=\"font-size:14px;\">f students use another person&rsquo;s ideas, creative work or research in any work which is submitted by the students for course assessment or in examination, be it in the written form or in any other medium of the arts,<strong>&nbsp;proper acknowledgement of the sources</strong>&nbsp;is required; failure to do so constitutes plagiarism on the part of the students.</span></p>\n",
    "```\n",
    "***"
   ]
  },
  {
   "cell_type": "markdown",
   "metadata": {},
   "source": [
    "### Need Help?\n",
    "```{raw} html\n",
    "<p><iframe src='https://interfaces.zapier.com/embed/chatbot/cm8semcg7007w144uvgfrt60l' height='400px' width='100%' allow='clipboard-write *' style=\"border: none;\"></iframe></p>"
   ]
  },
  {
   "cell_type": "code",
   "execution_count": null,
   "metadata": {},
   "outputs": [],
   "source": []
  }
 ],
 "metadata": {
  "kernelspec": {
   "display_name": "Python 3 (ipykernel)",
   "language": "python",
   "name": "python3"
  },
  "language_info": {
   "codemirror_mode": {
    "name": "ipython",
    "version": 3
   },
   "file_extension": ".py",
   "mimetype": "text/x-python",
   "name": "python",
   "nbconvert_exporter": "python",
   "pygments_lexer": "ipython3",
   "version": "3.13.2"
  },
  "widgets": {
   "application/vnd.jupyter.widget-state+json": {
    "state": {},
    "version_major": 2,
    "version_minor": 0
   }
  }
 },
 "nbformat": 4,
 "nbformat_minor": 4
}
